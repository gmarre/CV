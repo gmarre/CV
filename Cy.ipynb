{
 "cells": [
  {
   "cell_type": "code",
   "execution_count": 8,
   "id": "aea88abe",
   "metadata": {},
   "outputs": [],
   "source": [
    "start = datetime(2018,2,15)\n",
    "end = datetime(2022,4,15)"
   ]
  },
  {
   "cell_type": "code",
   "execution_count": 280,
   "id": "87585311",
   "metadata": {},
   "outputs": [],
   "source": [
    "import pandas_datareader as pdr\n",
    "import pandas as pd\n",
    "import matplotlib.pyplot as plt\n",
    "from datetime import datetime,timedelta\n",
    "\n",
    "data = pd.read_csv('B.csv')\n",
    "data['Date'] = pd.to_datetime(data['Date'])\n"
   ]
  },
  {
   "cell_type": "code",
   "execution_count": 281,
   "id": "2fe7675f",
   "metadata": {},
   "outputs": [
    {
     "data": {
      "image/png": "[encoded data removed]",
      "text/plain": [
       "<Figure size 1080x360 with 1 Axes>"
      ]
     },
     "metadata": {
      "needs_background": "light"
     },
     "output_type": "display_data"
    }
   ],
   "source": [
    "\n",
    "fig = plt.figure(figsize=(15, 5))\n",
    "\n",
    "plt.tick_params(axis='x',labelsize=10,rotation=90)\n",
    "plt.scatter(data.Date,data.Close,s = 3) # Your data\n",
    "plt.xlabel('Date')\n",
    "plt.ylabel('Stock price')\n",
    "plt.tight_layout()\n",
    "plt.show()"
   ]
  },
  {
   "cell_type": "code",
   "execution_count": 284,
   "id": "ce10de80",
   "metadata": {},
   "outputs": [],
   "source": [
    "def plot(stock,start_date,end_date) :\n",
    "    stock = stock.set_index('Date')\n",
    "    data = stock.loc[start_date:end_date,:]\n",
    "    \n",
    "    fig = plt.figure(figsize=(15, 5))\n",
    "\n",
    "    plt.tick_params(axis='x',labelsize=10,rotation=90)\n",
    "    plt.scatter(data.index,data.Close,s = 3) # Your data\n",
    "    plt.xlabel('Date')\n",
    "    plt.ylabel('Stock price')\n",
    "    plt.tight_layout()\n",
    "    plt.show()"
   ]
  },
  {
   "cell_type": "code",
   "execution_count": 24,
   "id": "4631c620",
   "metadata": {},
   "outputs": [
    {
     "data": {
      "text/plain": [
       "(62.17777340044391, 67.35254213637707)"
      ]
     },
     "execution_count": 24,
     "metadata": {},
     "output_type": "execute_result"
    }
   ],
   "source": [
    "import pandas_datareader as pdr\n",
    "import pandas as pd\n",
    "import matplotlib.pyplot as plt\n",
    "from datetime import datetime,timedelta\n",
    "\n",
    "def achat_vente_simple(stocks,buying_date,selling_date,eur) : \n",
    "    mask1 = (stocks['Date'] == buying_date)\n",
    "    mask2 = (stocks['Date'] == selling_date)\n",
    "    price_buying = stocks.loc[mask1,'Close'].values[0]\n",
    "    price_selling = stocks.loc[mask2,'Close'].values[0]\n",
    "    diff_percentage = (price_selling - price_buying)/price_selling\n",
    "    \n",
    "    potential_return = eur + eur*diff_percentage \n",
    "    return potential_return\n",
    "\n",
    "\n",
    "#frequency in days\n",
    "\n",
    "def DCA(stocks,start_date,end_date,frequency,eur) :\n",
    "    \n",
    "    sum_price = 0\n",
    "    compteur = 0\n",
    "    t = timedelta(days = frequency)\n",
    "    current_date = start_date\n",
    "    diff_percentage = 0\n",
    "    \n",
    "    mask2 = (stocks['Date'] == end_date)\n",
    "    price_selling = stocks.loc[mask2,'Close'].values[0]\n",
    "    \n",
    "    while current_date < end_date :\n",
    "        mask1 = (stocks['Date'] == current_date)\n",
    "        price_buying = stocks.loc[mask1,'Close'].values[0]\n",
    "        sum_price = sum_price + price_buying\n",
    "        compteur = compteur + 1\n",
    "        current_date = current_date + t\n",
    "    \n",
    "    avg_buying_price = sum_price/compteur\n",
    "    diff_percentage = (price_selling - avg_buying_price)/price_selling\n",
    "    eur_depense = compteur*eur\n",
    "    potential_return = eur_depense + eur_depense*diff_percentage \n",
    "    \n",
    "    return potential_return,eur_depense\n",
    "\n",
    "\n",
    "\n",
    "\n",
    "\n",
    "\n"
   ]
  },
  {
   "cell_type": "code",
   "execution_count": 35,
   "id": "148e9549",
   "metadata": {},
   "outputs": [],
   "source": [
    "start_date = datetime(2018,2,15)\n",
    "end_date = datetime(2022,4,15)\n"
   ]
  },
  {
   "cell_type": "code",
   "execution_count": 36,
   "id": "b56874a6",
   "metadata": {},
   "outputs": [
    {
     "data": {
      "text/plain": [
       "1781.4141890550857"
      ]
     },
     "execution_count": 36,
     "metadata": {},
     "output_type": "execute_result"
    }
   ],
   "source": [
    "achat_vente_simple(data,start_date,end_date,1000)\n"
   ]
  },
  {
   "cell_type": "code",
   "execution_count": 40,
   "id": "69148cef",
   "metadata": {},
   "outputs": [
    {
     "data": {
      "text/plain": [
       "(8361.151379557205, 5450)"
      ]
     },
     "execution_count": 40,
     "metadata": {},
     "output_type": "execute_result"
    }
   ],
   "source": [
    "DCA(data,start_date,end_date,7,25)\n"
   ]
  },
  {
   "cell_type": "code",
   "execution_count": 38,
   "id": "02e058f1",
   "metadata": {},
   "outputs": [
    {
     "data": {
      "text/plain": [
       "(5139.236325355385, 3330.055153575369)"
      ]
     },
     "execution_count": 38,
     "metadata": {},
     "output_type": "execute_result"
    }
   ],
   "source": [
    "DCA_optimize(data,start_date,end_date,15,[0,74])"
   ]
  },
  {
   "cell_type": "code",
   "execution_count": 251,
   "id": "2118ab9f",
   "metadata": {},
   "outputs": [],
   "source": [
    "def mapping_eur_coef(range_eur,percentage) :\n",
    "    \n",
    "   \n",
    "    eur_invest = ((range_eur[0]-range_eur[1])/(0.1))*percentage\n",
    "    \n",
    "    return eur_invest"
   ]
  },
  {
   "cell_type": "code",
   "execution_count": 252,
   "id": "73e7fdb9",
   "metadata": {},
   "outputs": [],
   "source": [
    "def average_price_on_x_days_before(stocks,date,x) :\n",
    "    t = timedelta(days = 1)\n",
    "    sum_price = 0\n",
    "    current_date = date\n",
    "    for i in range(x) :\n",
    "        mask1 = (stocks['Date'] == current_date)\n",
    "        price_buying = stocks.loc[mask1,'Close'].values[0]\n",
    "        sum_price = sum_price + price_buying\n",
    "        current_date = current_date - t\n",
    "    avg = sum_price/x\n",
    "    return avg\n"
   ]
  },
  {
   "cell_type": "code",
   "execution_count": 253,
   "id": "b27091ce",
   "metadata": {},
   "outputs": [],
   "source": [
    "def buy(stocks,date,amount,portefolio_total_eur,portefolio_btc_devise_btc) : \n",
    "    mask = (stocks['Date'] == date)\n",
    "    price = stocks.loc[mask,'Close'].values[0]\n",
    "    \n",
    "    if portefolio_total_eur >= amount : \n",
    "        new_portefolio_btc_devise_btc = portefolio_btc_devise_btc + amount/price \n",
    "        new_portefolio_total_eur = portefolio_total_eur - amount\n",
    "        return new_portefolio_total_eur,new_portefolio_btc_devise_btc\n",
    "    else :\n",
    "        print(\"Sorry you don't have enough money\")\n",
    "        return portefolio_total_eur,portefolio_btc_devise_btc"
   ]
  },
  {
   "cell_type": "code",
   "execution_count": 254,
   "id": "139e1cb5",
   "metadata": {},
   "outputs": [],
   "source": [
    "def get_price_date_eur_portefolio_btc(stocks,date,portefolio_btc) :\n",
    "    mask = (stocks['Date'] == date)\n",
    "    price = stocks.loc[mask,'Close'].values[0]\n",
    "    return portefolio_btc*price"
   ]
  },
  {
   "cell_type": "code",
   "execution_count": 255,
   "id": "28260f31",
   "metadata": {},
   "outputs": [],
   "source": [
    "def sell(stocks,date,amount,portefolio_total_eur,portefolio_btc_devise_btc) :\n",
    "    mask = (stocks['Date'] == date)\n",
    "    price = stocks.loc[mask,'Close'].values[0]\n",
    "    if amount < get_price_date_eur_portefolio_btc(stocks,date,portefolio_btc_devise_btc):\n",
    "        new_portefolio_btc_devise_btc = portefolio_btc_devise_btc - amount/price\n",
    "        new_portefolio_total_eur = portefolio_total_eur + amount\n",
    "        return new_portefolio_total_eur,new_portefolio_btc_devise_btc\n",
    "    else :\n",
    "        print(\"Sorry, you don't have enough bitcoin on your bitcoin portefolio\")\n",
    "        return portefolio_total_eur,portefolio_btc_devise_btc"
   ]
  },
  {
   "cell_type": "code",
   "execution_count": 256,
   "id": "822d3a5d",
   "metadata": {},
   "outputs": [],
   "source": [
    "start_date = datetime(2020,2,15)\n",
    "end_date = datetime(2022,4,15)"
   ]
  },
  {
   "cell_type": "code",
   "execution_count": 257,
   "id": "40a402b3",
   "metadata": {},
   "outputs": [],
   "source": [
    "portefolio_total_eur = 1000\n",
    "portefolio_btc_devise_btc = 0.3"
   ]
  },
  {
   "cell_type": "code",
   "execution_count": 258,
   "id": "3c6ccee8",
   "metadata": {},
   "outputs": [],
   "source": [
    "portefolio_total_eur,portefolio_btc_devise_btc=sell(data,start_date,1000,portefolio_total_eur,portefolio_btc_devise_btc)"
   ]
  },
  {
   "cell_type": "code",
   "execution_count": 259,
   "id": "3f7851c6",
   "metadata": {},
   "outputs": [
    {
     "data": {
      "text/plain": [
       "(2000, 0.1904805337704985)"
      ]
     },
     "execution_count": 259,
     "metadata": {},
     "output_type": "execute_result"
    }
   ],
   "source": [
    "portefolio_total_eur,portefolio_btc_devise_btc"
   ]
  },
  {
   "cell_type": "code",
   "execution_count": 295,
   "id": "254ee75a",
   "metadata": {},
   "outputs": [],
   "source": [
    "def DCA_optimize(stocks,start_date,end_date,frequency,range_eur,portefolio_total_eur,portefolio_btc_devise_btc) :\n",
    "    \n",
    "    new_portefolio_total_eur = portefolio_total_eur\n",
    "    new_portefolio_btc_devise_btc = portefolio_btc_devise_btc\n",
    "    \n",
    "    sum_price = 0\n",
    "    sum_euro_invest = 0\n",
    "    \n",
    "    t = timedelta(days = frequency)\n",
    "    current_date = start_date\n",
    "    diff_percentage = 0\n",
    "    \n",
    "    mask2 = (stocks['Date'] == end_date)\n",
    "    price_selling = stocks.loc[mask2,'Close'].values[0]\n",
    "    \n",
    "    \n",
    "    \n",
    "    \n",
    "    while current_date < end_date :\n",
    "        print(current_date)\n",
    "        \n",
    "        mask1 = (stocks['Date'] == current_date)\n",
    "        price_buying = stocks.loc[mask1,'Close'].values[0]\n",
    "        \n",
    "        avg_price_3_days = average_price_on_x_days_before(data,current_date,10)\n",
    "        \n",
    "        percentage = (price_buying - avg_price_3_days)/price_buying\n",
    "        eur_invest = mapping_eur_coef(range_eur,percentage)\n",
    "        \n",
    "        \n",
    "        \n",
    "        if eur_invest < -3 :\n",
    "            print(\"sell\",eur_invest)\n",
    "            new_portefolio_total_eur,new_portefolio_btc_devise_btc = sell(data,current_date,abs(eur_invest),new_portefolio_total_eur,new_portefolio_btc_devise_btc)\n",
    "        \n",
    "        elif eur_invest > 3 :\n",
    "            print(\"buy\",eur_invest)\n",
    "            new_portefolio_total_eur,new_portefolio_btc_devise_btc = buy(data,current_date,abs(eur_invest),new_portefolio_total_eur,new_portefolio_btc_devise_btc)\n",
    "        \n",
    "        current_date = current_date + t\n",
    "        \n",
    "        print(new_portefolio_total_eur,new_portefolio_btc_devise_btc)\n",
    "    \n",
    "    \n",
    "    return new_portefolio_total_eur,new_portefolio_btc_devise_btc\n"
   ]
  },
  {
   "cell_type": "code",
   "execution_count": 296,
   "id": "311bb4a5",
   "metadata": {},
   "outputs": [],
   "source": [
    "start_date = datetime(2021,4,1)\n",
    "end_date = datetime(2022,4,15)"
   ]
  },
  {
   "cell_type": "code",
   "execution_count": 297,
   "id": "1cebb39d",
   "metadata": {},
   "outputs": [
    {
     "data": {
      "image/png": "[encoded data removed]",
      "text/plain": [
       "<Figure size 1080x360 with 1 Axes>"
      ]
     },
     "metadata": {
      "needs_background": "light"
     },
     "output_type": "display_data"
    }
   ],
   "source": [
    "plot(data,start_date,end_date) "
   ]
  },
  {
   "cell_type": "code",
   "execution_count": 298,
   "id": "6a98edcb",
   "metadata": {},
   "outputs": [
    {
     "name": "stdout",
     "output_type": "stream",
     "text": [
      "932.8657695354001\n"
     ]
    }
   ],
   "source": [
    "portefolio_total_eur = 100\n",
    "portefolio_btc_devise_btc = 0.0166\n",
    "portefolio_btc_devise_eur = get_price_date_eur_portefolio_btc(data,start_date,portefolio_btc_devise_btc)\n",
    "sum_euro_invest = 0 \n",
    "\n",
    "print(portefolio_total_eur+portefolio_btc_devise_eur)"
   ]
  },
  {
   "cell_type": "code",
   "execution_count": 294,
   "id": "2a96379f",
   "metadata": {},
   "outputs": [
    {
     "name": "stdout",
     "output_type": "stream",
     "text": [
      "2021-04-01 00:00:00 100 0.0166\n",
      "sell -25.40368625807804\n",
      "2021-04-11 00:00:00 125.40368625807804 0.016093674482360664\n",
      "sell -11.59697310281549\n",
      "2021-04-21 00:00:00 137.00065936089354 0.015864526932570705\n",
      "buy 53.714801808031204\n",
      "2021-05-01 00:00:00 83.28585755286232 0.017063940863710523\n",
      "sell -39.62398381471124\n",
      "2021-05-11 00:00:00 122.90984136757356 0.01624032944803964\n",
      "2021-05-21 00:00:00 122.90984136757356 0.01624032944803964\n",
      "buy 95.83187964716276\n",
      "2021-05-31 00:00:00 27.077961720410798 0.019369245334218917\n",
      "2021-06-10 00:00:00 27.077961720410798 0.019369245334218917\n",
      "sell -5.8438723664397445\n",
      "2021-06-20 00:00:00 32.921834086850545 0.019175421860715757\n",
      "buy 20.674915723524084\n",
      "2021-06-30 00:00:00 12.246918363326461 0.019862940686143634\n",
      "sell -22.597459145327498\n",
      "2021-07-10 00:00:00 34.84437750865396 0.01909835204356188\n",
      "buy 7.447721176996794\n",
      "2021-07-20 00:00:00 27.39665633165717 0.01936223974587066\n",
      "buy 35.348465787360375\n",
      "Sorry you don't have enough money\n",
      "2021-07-30 00:00:00 27.39665633165717 0.01936223974587066\n",
      "sell -64.02974516932171\n",
      "2021-08-09 00:00:00 91.42640150097888 0.01756314998426813\n",
      "sell -53.056085872348405\n",
      "2021-08-19 00:00:00 144.48248737332727 0.01622002355243546\n",
      "sell -10.84858011306415\n",
      "2021-08-29 00:00:00 155.33106748639142 0.01594888798077309\n",
      "2021-09-08 00:00:00 155.33106748639142 0.01594888798077309\n",
      "buy 29.712047647333215\n",
      "2021-09-18 00:00:00 125.61901983905821 0.016710776793212114\n",
      "sell -19.911943286091955\n",
      "2021-09-28 00:00:00 145.53096312515015 0.016227153429117146\n",
      "buy 24.219124578174526\n",
      "2021-10-08 00:00:00 121.31183854697562 0.016916885095601488\n",
      "sell -43.76298980108959\n",
      "2021-10-18 00:00:00 165.0748283480652 0.015978744993384707\n",
      "sell -27.92431516253649\n",
      "2021-10-28 00:00:00 192.9991435106017 0.015455902649956063\n",
      "buy 11.89220387801945\n",
      "2021-11-07 00:00:00 181.10693963258225 0.015685073505818426\n",
      "sell -10.49395401651609\n",
      "2021-11-17 00:00:00 191.60089364909834 0.015493374883231017\n",
      "buy 26.265942675251292\n",
      "2021-11-27 00:00:00 165.33495097384704 0.015985808951207617\n",
      "buy 21.334805274718196\n",
      "2021-12-07 00:00:00 144.00014569912884 0.016426399492474462\n",
      "buy 30.34681174660548\n",
      "2021-12-17 00:00:00 113.65333395252335 0.01710114824011478\n",
      "buy 17.796906133054566\n",
      "2021-12-27 00:00:00 95.85642781946879 0.017534114842065268\n",
      "sell -13.47804249614069\n",
      "2022-01-06 00:00:00 109.33447031560948 0.017232575167862658\n",
      "buy 33.18817970345009\n",
      "2022-01-16 00:00:00 76.14629061215939 0.01810129591114887\n",
      "sell -5.683225109400472\n",
      "2022-01-26 00:00:00 81.82951572155986 0.01795094813801648\n",
      "buy 18.608762119448002\n",
      "2022-02-05 00:00:00 63.220753602111856 0.018518570811231084\n",
      "sell -27.991361116723866\n",
      "2022-02-15 00:00:00 91.21211471883572 0.017745239752208857\n",
      "sell -16.498804466032915\n",
      "2022-02-25 00:00:00 107.71091918486863 0.017324951331931047\n",
      "2022-03-07 00:00:00 107.71091918486863 0.017324951331931047\n",
      "buy 23.72108320136541\n",
      "2022-03-17 00:00:00 83.98983598350321 0.01800216288425492\n",
      "sell -10.20644830653455\n",
      "2022-03-27 00:00:00 94.19628429003777 0.017725535118869505\n",
      "sell -41.014241334524634\n",
      "2022-04-06 00:00:00 135.2105256245624 0.016763563084659237\n",
      "buy 27.575887029252364\n",
      "2022-04-16 00:00:00 107.63463859531004 0.01745909650892936\n"
     ]
    }
   ],
   "source": [
    "portefolio_total_eur,portefolio_btc_devise_btc = DCA_optimize(data,start_date,end_date,10,[-25,25],portefolio_total_eur,portefolio_btc_devise_btc)"
   ]
  },
  {
   "cell_type": "code",
   "execution_count": 262,
   "id": "215c652c",
   "metadata": {},
   "outputs": [
    {
     "data": {
      "text/plain": [
       "757.199096626033"
      ]
     },
     "execution_count": 262,
     "metadata": {},
     "output_type": "execute_result"
    }
   ],
   "source": [
    "(portefolio_total_eur + get_price_date_eur_portefolio_btc(data,end_date,portefolio_btc_devise_btc))"
   ]
  },
  {
   "cell_type": "code",
   "execution_count": null,
   "id": "28f001ec",
   "metadata": {},
   "outputs": [],
   "source": []
  }
 ],
 "metadata": {
  "kernelspec": {
   "display_name": "Python 3 (ipykernel)",
   "language": "python",
   "name": "python3"
  },
  "language_info": {
   "codemirror_mode": {
    "name": "ipython",
    "version": 3
   },
   "file_extension": ".py",
   "mimetype": "text/x-python",
   "name": "python",
   "nbconvert_exporter": "python",
   "pygments_lexer": "ipython3",
   "version": "3.8.11"
  }
 },
 "nbformat": 4,
 "nbformat_minor": 5
}
